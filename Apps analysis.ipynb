{
 "cells": [
  {
   "cell_type": "markdown",
   "metadata": {
    "collapsed": true
   },
   "source": [
    "## Mobile Apps Analysis Project\n",
    "For this project, I'll pretend I'm working as a data analyst for a company that builds Android and iOS mobile apps. The company will make apps available on Google Play and the App Store.\n",
    "\n",
    "We only build apps that are free to download and install, and our main source of revenue consists of in-app ads. This means our revenue for any given app is mostly influenced by the number of users who use our app — the more users that see and engage with the ads, the better. My goal for this project is to analyze data to help our developers understand what type of apps are likely to attract more users."
   ]
  },
  {
   "cell_type": "markdown",
   "metadata": {},
   "source": [
    "Import data files of Google Play Store and Apple Store"
   ]
  },
  {
   "cell_type": "code",
   "execution_count": 1,
   "metadata": {
    "collapsed": false
   },
   "outputs": [],
   "source": [
    "from csv import reader\n",
    "data_android_full= list(reader(open('googleplaystore.csv')))\n",
    "android_header = data_android_full[0]\n",
    "android = data_android_full[1:]\n",
    "\n",
    "data_ios_full = list(reader(open('AppleStore.csv')))\n",
    "ios_header = data_ios_full[0]\n",
    "ios = data_ios_full[1:]"
   ]
  },
  {
   "cell_type": "code",
   "execution_count": 2,
   "metadata": {
    "collapsed": true
   },
   "outputs": [],
   "source": [
    "def explore_data(dataset, start, end, rows_and_columns=False):\n",
    "    dataset_slice = dataset[start:end]    \n",
    "    for row in dataset_slice:\n",
    "        print(row)\n",
    "        print('\\n') # adds a new (empty) line after each row\n",
    "\n",
    "    if rows_and_columns:\n",
    "        print('Number of rows:', len(dataset))\n",
    "        print('Number of columns:', len(dataset[0]))"
   ]
  },
  {
   "cell_type": "code",
   "execution_count": 3,
   "metadata": {
    "collapsed": false,
    "scrolled": false
   },
   "outputs": [
    {
     "name": "stdout",
     "output_type": "stream",
     "text": [
      "['App', 'Category', 'Rating', 'Reviews', 'Size', 'Installs', 'Type', 'Price', 'Content Rating', 'Genres', 'Last Updated', 'Current Ver', 'Android Ver']\n",
      "\n",
      "\n",
      "['Photo Editor & Candy Camera & Grid & ScrapBook', 'ART_AND_DESIGN', '4.1', '159', '19M', '10,000+', 'Free', '0', 'Everyone', 'Art & Design', 'January 7, 2018', '1.0.0', '4.0.3 and up']\n",
      "\n",
      "\n",
      "['Coloring book moana', 'ART_AND_DESIGN', '3.9', '967', '14M', '500,000+', 'Free', '0', 'Everyone', 'Art & Design;Pretend Play', 'January 15, 2018', '2.0.0', '4.0.3 and up']\n",
      "\n",
      "\n",
      "['U Launcher Lite – FREE Live Cool Themes, Hide Apps', 'ART_AND_DESIGN', '4.7', '87510', '8.7M', '5,000,000+', 'Free', '0', 'Everyone', 'Art & Design', 'August 1, 2018', '1.2.4', '4.0.3 and up']\n",
      "\n",
      "\n",
      "Number of rows: 10841\n",
      "Number of columns: 13\n"
     ]
    }
   ],
   "source": [
    "print(android_header)\n",
    "print('\\n')\n",
    "explore_data(android,0,3,True)"
   ]
  },
  {
   "cell_type": "code",
   "execution_count": 4,
   "metadata": {
    "collapsed": false,
    "scrolled": true
   },
   "outputs": [
    {
     "name": "stdout",
     "output_type": "stream",
     "text": [
      "['id', 'track_name', 'size_bytes', 'currency', 'price', 'rating_count_tot', 'rating_count_ver', 'user_rating', 'user_rating_ver', 'ver', 'cont_rating', 'prime_genre', 'sup_devices.num', 'ipadSc_urls.num', 'lang.num', 'vpp_lic']\n",
      "\n",
      "\n",
      "['284882215', 'Facebook', '389879808', 'USD', '0.0', '2974676', '212', '3.5', '3.5', '95.0', '4+', 'Social Networking', '37', '1', '29', '1']\n",
      "\n",
      "\n",
      "['389801252', 'Instagram', '113954816', 'USD', '0.0', '2161558', '1289', '4.5', '4.0', '10.23', '12+', 'Photo & Video', '37', '0', '29', '1']\n",
      "\n",
      "\n",
      "['529479190', 'Clash of Clans', '116476928', 'USD', '0.0', '2130805', '579', '4.5', '4.5', '9.24.12', '9+', 'Games', '38', '5', '18', '1']\n",
      "\n",
      "\n",
      "Number of rows: 7197\n",
      "Number of columns: 16\n"
     ]
    }
   ],
   "source": [
    "print(ios_header)\n",
    "print('\\n')\n",
    "explore_data(ios,0,3,True)"
   ]
  },
  {
   "cell_type": "markdown",
   "metadata": {},
   "source": [
    "Find which attributes that could help with the analysis."
   ]
  },
  {
   "cell_type": "code",
   "execution_count": 5,
   "metadata": {
    "collapsed": false,
    "scrolled": true
   },
   "outputs": [
    {
     "data": {
      "text/plain": [
       "['App',\n",
       " 'Category',\n",
       " 'Rating',\n",
       " 'Reviews',\n",
       " 'Size',\n",
       " 'Installs',\n",
       " 'Type',\n",
       " 'Price',\n",
       " 'Content Rating',\n",
       " 'Genres',\n",
       " 'Last Updated',\n",
       " 'Current Ver',\n",
       " 'Android Ver']"
      ]
     },
     "execution_count": 5,
     "metadata": {},
     "output_type": "execute_result"
    }
   ],
   "source": [
    "# For Android\n",
    "data_android_full[0]"
   ]
  },
  {
   "cell_type": "markdown",
   "metadata": {},
   "source": [
    "I have decided that the attributes that could help in the analysis are 'App', 'Category', 'Reviews', 'Installs', 'Type', 'Price', and 'Genres'."
   ]
  },
  {
   "cell_type": "code",
   "execution_count": 6,
   "metadata": {
    "collapsed": false
   },
   "outputs": [
    {
     "data": {
      "text/plain": [
       "['id',\n",
       " 'track_name',\n",
       " 'size_bytes',\n",
       " 'currency',\n",
       " 'price',\n",
       " 'rating_count_tot',\n",
       " 'rating_count_ver',\n",
       " 'user_rating',\n",
       " 'user_rating_ver',\n",
       " 'ver',\n",
       " 'cont_rating',\n",
       " 'prime_genre',\n",
       " 'sup_devices.num',\n",
       " 'ipadSc_urls.num',\n",
       " 'lang.num',\n",
       " 'vpp_lic']"
      ]
     },
     "execution_count": 6,
     "metadata": {},
     "output_type": "execute_result"
    }
   ],
   "source": [
    "# For IOS\n",
    "data_ios_full[0]"
   ]
  },
  {
   "cell_type": "markdown",
   "metadata": {},
   "source": [
    "I have decided that the attributes that could help in the analysis are 'track_name', 'currency', 'price', and 'rating_count_tot'."
   ]
  },
  {
   "cell_type": "markdown",
   "metadata": {},
   "source": [
    "From https://www.kaggle.com/lava18/google-play-store-apps/discussion/66015 , it has been reported that a data record 10472 has been mistaken. Therefore, it will be deleted."
   ]
  },
  {
   "cell_type": "code",
   "execution_count": 7,
   "metadata": {
    "collapsed": false
   },
   "outputs": [
    {
     "name": "stdout",
     "output_type": "stream",
     "text": [
      "['App', 'Category', 'Rating', 'Reviews', 'Size', 'Installs', 'Type', 'Price', 'Content Rating', 'Genres', 'Last Updated', 'Current Ver', 'Android Ver']\n",
      "\n",
      "\n",
      "['Life Made WI-Fi Touchscreen Photo Frame', '1.9', '19', '3.0M', '1,000+', 'Free', '0', 'Everyone', '', 'February 11, 2018', '1.0.19', '4.0 and up']\n"
     ]
    }
   ],
   "source": [
    "print(android_header)\n",
    "print('\\n')\n",
    "print(android[10472])\n",
    "\n",
    "\n"
   ]
  },
  {
   "cell_type": "code",
   "execution_count": 8,
   "metadata": {
    "collapsed": true
   },
   "outputs": [],
   "source": [
    "del android[10472]"
   ]
  },
  {
   "cell_type": "markdown",
   "metadata": {},
   "source": [
    "Finding duplicate data for android apps. In total, there are 1181 records where an apps occurs more than once."
   ]
  },
  {
   "cell_type": "code",
   "execution_count": 9,
   "metadata": {
    "collapsed": false
   },
   "outputs": [
    {
     "name": "stdout",
     "output_type": "stream",
     "text": [
      "Number of duplicate apps: 1181\n",
      "Examples of duplicate apps ['Quick PDF Scanner + OCR FREE', 'Box', 'Google My Business', 'ZOOM Cloud Meetings', 'join.me - Simple Meetings']\n"
     ]
    }
   ],
   "source": [
    "duplicate_apps = []\n",
    "unique_apps = []\n",
    "\n",
    "for app in android:\n",
    "    name = app[0]\n",
    "    if name in unique_apps:\n",
    "        duplicate_apps.append(name)\n",
    "    else:\n",
    "        unique_apps.append(name)\n",
    "\n",
    "print('Number of duplicate apps:', len(duplicate_apps))\n",
    "print('Examples of duplicate apps', duplicate_apps[:5])\n",
    "        "
   ]
  },
  {
   "cell_type": "markdown",
   "metadata": {},
   "source": [
    "To remove the duplicates, I will:\n",
    "* Create a dictionary, where each dictionary key is a unique app name and the corresponding dictionary value is the highest number of reviews of that app.\n",
    "* Use the information stored in the dictionary and create a new data set, which will have only one entry per app (and for each app, we'll only select the entry with the highest number of reviews)."
   ]
  },
  {
   "cell_type": "code",
   "execution_count": 45,
   "metadata": {
    "collapsed": false
   },
   "outputs": [
    {
     "name": "stdout",
     "output_type": "stream",
     "text": [
      "9659\n"
     ]
    }
   ],
   "source": [
    "reviews_max = {}\n",
    "\n",
    "for row in android:\n",
    "    name = row[0]\n",
    "    n_reviews = int(row[3])\n",
    "    if name in reviews_max and reviews_max[name] < n_reviews:\n",
    "        reviews_max[name] = n_reviews\n",
    "    if name not in reviews_max:\n",
    "        reviews_max[name] = n_reviews\n",
    "\n",
    "print(len(reviews_max))"
   ]
  },
  {
   "cell_type": "code",
   "execution_count": 48,
   "metadata": {
    "collapsed": false
   },
   "outputs": [
    {
     "name": "stdout",
     "output_type": "stream",
     "text": [
      "[['Photo Editor & Candy Camera & Grid & ScrapBook', 'ART_AND_DESIGN', '4.1', '159', '19M', '10,000+', 'Free', '0', 'Everyone', 'Art & Design', 'January 7, 2018', '1.0.0', '4.0.3 and up'], ['U Launcher Lite – FREE Live Cool Themes, Hide Apps', 'ART_AND_DESIGN', '4.7', '87510', '8.7M', '5,000,000+', 'Free', '0', 'Everyone', 'Art & Design', 'August 1, 2018', '1.2.4', '4.0.3 and up'], ['Sketch - Draw & Paint', 'ART_AND_DESIGN', '4.5', '215644', '25M', '50,000,000+', 'Free', '0', 'Teen', 'Art & Design', 'June 8, 2018', 'Varies with device', '4.2 and up'], ['Pixel Draw - Number Art Coloring Book', 'ART_AND_DESIGN', '4.3', '967', '2.8M', '100,000+', 'Free', '0', 'Everyone', 'Art & Design;Creativity', 'June 20, 2018', '1.1', '4.4 and up'], ['Paper flowers instructions', 'ART_AND_DESIGN', '4.4', '167', '5.6M', '50,000+', 'Free', '0', 'Everyone', 'Art & Design', 'March 26, 2017', '1.0', '2.3 and up']]\n",
      "\n",
      "\n",
      "Android Records remaining: 9659\n"
     ]
    }
   ],
   "source": [
    "android_clean = []\n",
    "already_added = []\n",
    "\n",
    "for row in android:\n",
    "    name = row[0]\n",
    "    n_reviews = int(row[3])\n",
    "    if (n_reviews == reviews_max[name]) and (name not in already_added):\n",
    "        android_clean.append(row)\n",
    "        already_added.append(name)\n",
    "\n",
    "print(android_clean[0:5])\n",
    "print('\\n')\n",
    "print('Android Records remaining:', len(android_clean))"
   ]
  },
  {
   "cell_type": "markdown",
   "metadata": {
    "collapsed": true
   },
   "source": [
    "Duplicate records have been successfully removed!"
   ]
  },
  {
   "cell_type": "markdown",
   "metadata": {},
   "source": [
    "### Removing Non-English Apps\n",
    "We built this function below, and we use the built-in ord() function to find out the corresponding encoding number of each character. Only 3 special characters (not in ASCII range) can be allowed in the name."
   ]
  },
  {
   "cell_type": "code",
   "execution_count": 31,
   "metadata": {
    "collapsed": false
   },
   "outputs": [],
   "source": [
    "def check_english(string):\n",
    "    check = 0\n",
    "    for letter in string:\n",
    "        if ord(letter) >127:\n",
    "            check +=1 \n",
    "    if check > 3:\n",
    "        return False\n",
    "    else:\n",
    "        return True"
   ]
  },
  {
   "cell_type": "code",
   "execution_count": 32,
   "metadata": {
    "collapsed": false
   },
   "outputs": [
    {
     "data": {
      "text/plain": [
       "False"
      ]
     },
     "execution_count": 32,
     "metadata": {},
     "output_type": "execute_result"
    }
   ],
   "source": [
    "check_english('电视剧热')"
   ]
  },
  {
   "cell_type": "code",
   "execution_count": 51,
   "metadata": {
    "collapsed": false
   },
   "outputs": [
    {
     "name": "stdout",
     "output_type": "stream",
     "text": [
      "Number of Android apps: 9659\n",
      "Number of English Android apps: 9614\n",
      "Number of IOS apps: 7197\n",
      "Number of English IOS apps: 6183\n"
     ]
    }
   ],
   "source": [
    "android_english = []\n",
    "ios_english = []\n",
    "\n",
    "for row in android_clean:\n",
    "    if check_english(row[0]):\n",
    "        android_english.append(row)\n",
    "print('Number of Android apps:',len(android_clean))\n",
    "print('Number of English Android apps:',len(android_english))\n",
    "\n",
    "for row in ios:\n",
    "    if check_english(row[1]):\n",
    "        ios_english.append(row)\n",
    "print('Number of IOS apps:',len(ios))\n",
    "print('Number of English IOS apps:',len(ios_english))"
   ]
  },
  {
   "cell_type": "markdown",
   "metadata": {},
   "source": [
    "### Only free apps are chosen for the analysis"
   ]
  },
  {
   "cell_type": "markdown",
   "metadata": {},
   "source": [
    "The company only build apps that are free to download and install, and our main source of revenue consists of in-app ads. Our data sets contain both free and non-free apps; we'll need to isolate only the free apps for our analysis."
   ]
  },
  {
   "cell_type": "code",
   "execution_count": 61,
   "metadata": {
    "collapsed": false
   },
   "outputs": [
    {
     "name": "stdout",
     "output_type": "stream",
     "text": [
      "Number of free Android apps: 8864\n",
      "Number of free IOS apps: 3222\n"
     ]
    }
   ],
   "source": [
    "android_free_apps = []\n",
    "ios_free_apps = []\n",
    "\n",
    "for row in android_english:\n",
    "    if row[7] == '0':\n",
    "        android_free_apps.append(row)\n",
    "\n",
    "for row in ios_english:\n",
    "    if row[4] == '0.0':\n",
    "        ios_free_apps.append(row)\n",
    "\n",
    "print('Number of free Android apps:', len(android_free_apps))\n",
    "print('Number of free IOS apps:', len(ios_free_apps))"
   ]
  },
  {
   "cell_type": "markdown",
   "metadata": {},
   "source": [
    "### Finding the most common genres for each market\n",
    "The function 'freq' returns the percentage of each genre relative to the total."
   ]
  },
  {
   "cell_type": "code",
   "execution_count": 74,
   "metadata": {
    "collapsed": false
   },
   "outputs": [],
   "source": [
    "android_dict = {}\n",
    "ios_dict = {}\n",
    "\n",
    "def freq(data,index):\n",
    "    table = {}\n",
    "    total = 0\n",
    "    # Create dictionary that stores genre as key and frequency as value\n",
    "    for row in data:\n",
    "        total += 1\n",
    "        genre = row[index]\n",
    "        if genre in table:\n",
    "            table[genre] += 1\n",
    "        else:\n",
    "            table[genre] = 1\n",
    "    \n",
    "    # Convert to percent of total\n",
    "    table_percent = {}\n",
    "    for row in table:\n",
    "        table_percent[row] = table[row]/total * 100\n",
    "    \n",
    "    return table_percent"
   ]
  },
  {
   "cell_type": "code",
   "execution_count": 80,
   "metadata": {
    "collapsed": false
   },
   "outputs": [
    {
     "name": "stdout",
     "output_type": "stream",
     "text": [
      "{'Shopping': 2.2450361010830324, 'Arcade;Action & Adventure': 0.12409747292418773, 'Casual': 1.7599277978339352, 'Casual;Education': 0.02256317689530686, 'Art & Design;Creativity': 0.06768953068592057, 'Role Playing;Brain Games': 0.01128158844765343, 'Parenting': 0.4963898916967509, 'Education;Creativity': 0.04512635379061372, 'Educational;Creativity': 0.033844765342960284, 'Health & Fitness': 3.0798736462093865, 'Action': 3.1024368231046933, 'Parenting;Education': 0.078971119133574, 'Books & Reference': 2.1435018050541514, 'Casual;Pretend Play': 0.236913357400722, 'Role Playing;Action & Adventure': 0.033844765342960284, 'Parenting;Music & Video': 0.06768953068592057, 'Lifestyle;Education': 0.01128158844765343, 'Entertainment;Music & Video': 0.16922382671480143, 'House & Home': 0.8235559566787004, 'Role Playing': 0.9363718411552346, 'Food & Drink': 1.2409747292418771, 'Card;Action & Adventure': 0.01128158844765343, 'Board': 0.3835740072202166, 'Health & Fitness;Education': 0.01128158844765343, 'Tools;Education': 0.01128158844765343, 'Video Players & Editors;Creativity': 0.01128158844765343, 'Travel & Local': 2.3240072202166067, 'Casual;Brain Games': 0.13537906137184114, 'Adventure;Action & Adventure': 0.033844765342960284, 'Simulation': 2.0419675090252705, 'Educational;Education': 0.39485559566787, 'Art & Design;Action & Adventure': 0.01128158844765343, 'Educational': 0.3722924187725632, 'Trivia;Education': 0.01128158844765343, 'Strategy;Action & Adventure': 0.01128158844765343, 'Music & Audio;Music & Video': 0.01128158844765343, 'Racing': 0.9927797833935018, 'Strategy': 0.9138086642599278, 'Personalization': 3.3167870036101084, 'Travel & Local;Action & Adventure': 0.01128158844765343, 'Business': 4.591606498194946, 'Adventure': 0.6768953068592057, 'Racing;Pretend Play': 0.01128158844765343, 'Books & Reference;Education': 0.01128158844765343, 'Communication': 3.2378158844765346, 'Education': 5.347472924187725, 'Art & Design': 0.5979241877256317, 'Music': 0.2030685920577617, 'Medical': 3.531137184115524, 'Dating': 1.861462093862816, 'Puzzle;Education': 0.01128158844765343, 'Puzzle;Action & Adventure': 0.033844765342960284, 'Educational;Action & Adventure': 0.033844765342960284, 'Finance': 3.7003610108303246, 'Lifestyle;Pretend Play': 0.01128158844765343, 'Tools': 8.449909747292418, 'Casual;Creativity': 0.06768953068592057, 'Communication;Creativity': 0.01128158844765343, 'Role Playing;Pretend Play': 0.04512635379061372, 'Libraries & Demo': 0.9363718411552346, 'Arcade': 1.8501805054151623, 'Action;Action & Adventure': 0.10153429602888085, 'Education;Music & Video': 0.033844765342960284, 'Music;Music & Video': 0.02256317689530686, 'Strategy;Creativity': 0.01128158844765343, 'Educational;Brain Games': 0.06768953068592057, 'Art & Design;Pretend Play': 0.01128158844765343, 'Photography': 2.944494584837545, 'Health & Fitness;Action & Adventure': 0.01128158844765343, 'Auto & Vehicles': 0.9250902527075812, 'Beauty': 0.5979241877256317, 'Casual;Action & Adventure': 0.13537906137184114, 'Word': 0.2594765342960289, 'Entertainment;Pretend Play': 0.02256317689530686, 'Sports': 3.463447653429603, 'Educational;Pretend Play': 0.09025270758122744, 'Casual;Music & Video': 0.01128158844765343, 'Racing;Action & Adventure': 0.16922382671480143, 'Comics;Creativity': 0.01128158844765343, 'Board;Brain Games': 0.078971119133574, 'News & Magazines': 2.7978339350180503, 'Entertainment;Brain Games': 0.078971119133574, 'Video Players & Editors': 1.7712093862815883, 'Events': 0.7107400722021661, 'Education;Pretend Play': 0.056407942238267145, 'Entertainment;Creativity': 0.033844765342960284, 'Maps & Navigation': 1.3989169675090252, 'Strategy;Education': 0.01128158844765343, 'Trivia': 0.41741877256317694, 'Entertainment;Education': 0.01128158844765343, 'Simulation;Education': 0.01128158844765343, 'Education;Action & Adventure': 0.033844765342960284, 'Education;Education': 0.33844765342960287, 'Card': 0.45126353790613716, 'Arcade;Pretend Play': 0.01128158844765343, 'Puzzle': 1.128158844765343, 'Sports;Action & Adventure': 0.02256317689530686, 'Puzzle;Creativity': 0.02256317689530686, 'Puzzle;Brain Games': 0.16922382671480143, 'Parenting;Brain Games': 0.01128158844765343, 'Entertainment': 6.069494584837545, 'Casino': 0.42870036101083037, 'Video Players & Editors;Music & Video': 0.02256317689530686, 'Simulation;Action & Adventure': 0.078971119133574, 'Comics': 0.6092057761732852, 'Board;Action & Adventure': 0.02256317689530686, 'Productivity': 3.892148014440433, 'Adventure;Education': 0.01128158844765343, 'Education;Brain Games': 0.033844765342960284, 'Weather': 0.8009927797833934, 'Simulation;Pretend Play': 0.02256317689530686, 'Entertainment;Action & Adventure': 0.033844765342960284, 'Social': 2.6624548736462095, 'Lifestyle': 3.892148014440433}\n"
     ]
    }
   ],
   "source": [
    "print(freq(android_free_apps,9))"
   ]
  },
  {
   "cell_type": "markdown",
   "metadata": {},
   "source": [
    "The function 'display' returns a sorted frequency of each genre "
   ]
  },
  {
   "cell_type": "code",
   "execution_count": 100,
   "metadata": {
    "collapsed": true
   },
   "outputs": [],
   "source": [
    "def display(data,index):\n",
    "    dict_freq = freq(data,index)\n",
    "    table_display = []\n",
    "    \n",
    "    for row in dict_freq:\n",
    "        row_list = [row,dict_freq[row]]\n",
    "        table_display.append(row_list)\n",
    "    \n",
    "    table_sorted = sorted(table_display,key = lambda x:x[1],reverse=True)\n",
    "    \n",
    "    for line in table_sorted:\n",
    "        print(line[0],': ',line[1])\n"
   ]
  },
  {
   "cell_type": "markdown",
   "metadata": {},
   "source": [
    "After the functions have been created, the frequency tables are created by inputting the arguments into the function parameters."
   ]
  },
  {
   "cell_type": "code",
   "execution_count": 103,
   "metadata": {
    "collapsed": false
   },
   "outputs": [
    {
     "name": "stdout",
     "output_type": "stream",
     "text": [
      "FAMILY :  18.907942238267147\n",
      "GAME :  9.724729241877256\n",
      "TOOLS :  8.461191335740072\n",
      "BUSINESS :  4.591606498194946\n",
      "LIFESTYLE :  3.9034296028880866\n",
      "PRODUCTIVITY :  3.892148014440433\n",
      "FINANCE :  3.7003610108303246\n",
      "MEDICAL :  3.531137184115524\n",
      "SPORTS :  3.395758122743682\n",
      "PERSONALIZATION :  3.3167870036101084\n",
      "COMMUNICATION :  3.2378158844765346\n",
      "HEALTH_AND_FITNESS :  3.0798736462093865\n",
      "PHOTOGRAPHY :  2.944494584837545\n",
      "NEWS_AND_MAGAZINES :  2.7978339350180503\n",
      "SOCIAL :  2.6624548736462095\n",
      "TRAVEL_AND_LOCAL :  2.33528880866426\n",
      "SHOPPING :  2.2450361010830324\n",
      "BOOKS_AND_REFERENCE :  2.1435018050541514\n",
      "DATING :  1.861462093862816\n",
      "VIDEO_PLAYERS :  1.7937725631768955\n",
      "MAPS_AND_NAVIGATION :  1.3989169675090252\n",
      "FOOD_AND_DRINK :  1.2409747292418771\n",
      "EDUCATION :  1.1620036101083033\n",
      "ENTERTAINMENT :  0.9589350180505415\n",
      "LIBRARIES_AND_DEMO :  0.9363718411552346\n",
      "AUTO_AND_VEHICLES :  0.9250902527075812\n",
      "HOUSE_AND_HOME :  0.8235559566787004\n",
      "WEATHER :  0.8009927797833934\n",
      "EVENTS :  0.7107400722021661\n",
      "PARENTING :  0.6543321299638989\n",
      "ART_AND_DESIGN :  0.6430505415162455\n",
      "COMICS :  0.6204873646209386\n",
      "BEAUTY :  0.5979241877256317\n",
      "None\n"
     ]
    }
   ],
   "source": [
    "print(display(android_free_apps,1))"
   ]
  },
  {
   "cell_type": "code",
   "execution_count": 101,
   "metadata": {
    "collapsed": false,
    "scrolled": false
   },
   "outputs": [
    {
     "name": "stdout",
     "output_type": "stream",
     "text": [
      "Tools :  8.449909747292418\n",
      "Entertainment :  6.069494584837545\n",
      "Education :  5.347472924187725\n",
      "Business :  4.591606498194946\n",
      "Productivity :  3.892148014440433\n",
      "Lifestyle :  3.892148014440433\n",
      "Finance :  3.7003610108303246\n",
      "Medical :  3.531137184115524\n",
      "Sports :  3.463447653429603\n",
      "Personalization :  3.3167870036101084\n",
      "Communication :  3.2378158844765346\n",
      "Action :  3.1024368231046933\n",
      "Health & Fitness :  3.0798736462093865\n",
      "Photography :  2.944494584837545\n",
      "News & Magazines :  2.7978339350180503\n",
      "Social :  2.6624548736462095\n",
      "Travel & Local :  2.3240072202166067\n",
      "Shopping :  2.2450361010830324\n",
      "Books & Reference :  2.1435018050541514\n",
      "Simulation :  2.0419675090252705\n",
      "Dating :  1.861462093862816\n",
      "Arcade :  1.8501805054151623\n",
      "Video Players & Editors :  1.7712093862815883\n",
      "Casual :  1.7599277978339352\n",
      "Maps & Navigation :  1.3989169675090252\n",
      "Food & Drink :  1.2409747292418771\n",
      "Puzzle :  1.128158844765343\n",
      "Racing :  0.9927797833935018\n",
      "Role Playing :  0.9363718411552346\n",
      "Libraries & Demo :  0.9363718411552346\n",
      "Auto & Vehicles :  0.9250902527075812\n",
      "Strategy :  0.9138086642599278\n",
      "House & Home :  0.8235559566787004\n",
      "Weather :  0.8009927797833934\n",
      "Events :  0.7107400722021661\n",
      "Adventure :  0.6768953068592057\n",
      "Comics :  0.6092057761732852\n",
      "Art & Design :  0.5979241877256317\n",
      "Beauty :  0.5979241877256317\n",
      "Parenting :  0.4963898916967509\n",
      "Card :  0.45126353790613716\n",
      "Casino :  0.42870036101083037\n",
      "Trivia :  0.41741877256317694\n",
      "Educational;Education :  0.39485559566787\n",
      "Board :  0.3835740072202166\n",
      "Educational :  0.3722924187725632\n",
      "Education;Education :  0.33844765342960287\n",
      "Word :  0.2594765342960289\n",
      "Casual;Pretend Play :  0.236913357400722\n",
      "Music :  0.2030685920577617\n",
      "Entertainment;Music & Video :  0.16922382671480143\n",
      "Racing;Action & Adventure :  0.16922382671480143\n",
      "Puzzle;Brain Games :  0.16922382671480143\n",
      "Casual;Brain Games :  0.13537906137184114\n",
      "Casual;Action & Adventure :  0.13537906137184114\n",
      "Arcade;Action & Adventure :  0.12409747292418773\n",
      "Action;Action & Adventure :  0.10153429602888085\n",
      "Educational;Pretend Play :  0.09025270758122744\n",
      "Parenting;Education :  0.078971119133574\n",
      "Board;Brain Games :  0.078971119133574\n",
      "Entertainment;Brain Games :  0.078971119133574\n",
      "Simulation;Action & Adventure :  0.078971119133574\n",
      "Art & Design;Creativity :  0.06768953068592057\n",
      "Parenting;Music & Video :  0.06768953068592057\n",
      "Casual;Creativity :  0.06768953068592057\n",
      "Educational;Brain Games :  0.06768953068592057\n",
      "Education;Pretend Play :  0.056407942238267145\n",
      "Education;Creativity :  0.04512635379061372\n",
      "Role Playing;Pretend Play :  0.04512635379061372\n",
      "Educational;Creativity :  0.033844765342960284\n",
      "Role Playing;Action & Adventure :  0.033844765342960284\n",
      "Adventure;Action & Adventure :  0.033844765342960284\n",
      "Puzzle;Action & Adventure :  0.033844765342960284\n",
      "Educational;Action & Adventure :  0.033844765342960284\n",
      "Education;Music & Video :  0.033844765342960284\n",
      "Entertainment;Creativity :  0.033844765342960284\n",
      "Education;Action & Adventure :  0.033844765342960284\n",
      "Education;Brain Games :  0.033844765342960284\n",
      "Entertainment;Action & Adventure :  0.033844765342960284\n",
      "Casual;Education :  0.02256317689530686\n",
      "Music;Music & Video :  0.02256317689530686\n",
      "Entertainment;Pretend Play :  0.02256317689530686\n",
      "Sports;Action & Adventure :  0.02256317689530686\n",
      "Puzzle;Creativity :  0.02256317689530686\n",
      "Video Players & Editors;Music & Video :  0.02256317689530686\n",
      "Board;Action & Adventure :  0.02256317689530686\n",
      "Simulation;Pretend Play :  0.02256317689530686\n",
      "Role Playing;Brain Games :  0.01128158844765343\n",
      "Lifestyle;Education :  0.01128158844765343\n",
      "Card;Action & Adventure :  0.01128158844765343\n",
      "Health & Fitness;Education :  0.01128158844765343\n",
      "Tools;Education :  0.01128158844765343\n",
      "Video Players & Editors;Creativity :  0.01128158844765343\n",
      "Art & Design;Action & Adventure :  0.01128158844765343\n",
      "Trivia;Education :  0.01128158844765343\n",
      "Strategy;Action & Adventure :  0.01128158844765343\n",
      "Music & Audio;Music & Video :  0.01128158844765343\n",
      "Travel & Local;Action & Adventure :  0.01128158844765343\n",
      "Racing;Pretend Play :  0.01128158844765343\n",
      "Books & Reference;Education :  0.01128158844765343\n",
      "Puzzle;Education :  0.01128158844765343\n",
      "Lifestyle;Pretend Play :  0.01128158844765343\n",
      "Communication;Creativity :  0.01128158844765343\n",
      "Strategy;Creativity :  0.01128158844765343\n",
      "Art & Design;Pretend Play :  0.01128158844765343\n",
      "Health & Fitness;Action & Adventure :  0.01128158844765343\n",
      "Casual;Music & Video :  0.01128158844765343\n",
      "Comics;Creativity :  0.01128158844765343\n",
      "Strategy;Education :  0.01128158844765343\n",
      "Entertainment;Education :  0.01128158844765343\n",
      "Simulation;Education :  0.01128158844765343\n",
      "Arcade;Pretend Play :  0.01128158844765343\n",
      "Parenting;Brain Games :  0.01128158844765343\n",
      "Adventure;Education :  0.01128158844765343\n",
      "None\n"
     ]
    }
   ],
   "source": [
    "print(display(android_free_apps,9))"
   ]
  },
  {
   "cell_type": "markdown",
   "metadata": {},
   "source": [
    "Most of the Android apps are focused on practical uses such as 'Tools', 'Education', and 'Business'."
   ]
  },
  {
   "cell_type": "code",
   "execution_count": 102,
   "metadata": {
    "collapsed": false
   },
   "outputs": [
    {
     "name": "stdout",
     "output_type": "stream",
     "text": [
      "Games :  58.16263190564867\n",
      "Entertainment :  7.883302296710118\n",
      "Photo & Video :  4.9658597144630665\n",
      "Education :  3.662321539416512\n",
      "Social Networking :  3.2898820608317814\n",
      "Shopping :  2.60707635009311\n",
      "Utilities :  2.5139664804469275\n",
      "Sports :  2.1415270018621975\n",
      "Music :  2.0484171322160147\n",
      "Health & Fitness :  2.0173805090006205\n",
      "Productivity :  1.7380509000620732\n",
      "Lifestyle :  1.5828677839851024\n",
      "News :  1.3345747982619491\n",
      "Travel :  1.2414649286157666\n",
      "Finance :  1.1173184357541899\n",
      "Weather :  0.8690254500310366\n",
      "Food & Drink :  0.8069522036002483\n",
      "Reference :  0.5586592178770949\n",
      "Business :  0.5276225946617008\n",
      "Book :  0.4345127250155183\n",
      "Navigation :  0.186219739292365\n",
      "Medical :  0.186219739292365\n",
      "Catalogs :  0.12414649286157665\n",
      "None\n"
     ]
    }
   ],
   "source": [
    "print(display(ios_free_apps,11))"
   ]
  },
  {
   "cell_type": "markdown",
   "metadata": {},
   "source": [
    "'Games' is by far the most popular genre in IOS."
   ]
  },
  {
   "cell_type": "markdown",
   "metadata": {},
   "source": [
    "Up to this point, we found that apps in the App Store is mostly designed for fun, while Google Play shows a more balanced mix of both practical and fun apps. Now I would like to get an idea about the kind of apps that have most users."
   ]
  },
  {
   "cell_type": "markdown",
   "metadata": {},
   "source": [
    "### Most Popular Apps by Genre on the App Store"
   ]
  },
  {
   "cell_type": "code",
   "execution_count": 105,
   "metadata": {
    "collapsed": false
   },
   "outputs": [
    {
     "name": "stdout",
     "output_type": "stream",
     "text": [
      "Travel : 28243.8\n",
      "Shopping : 26919.690476190477\n",
      "Book : 39758.5\n",
      "Navigation : 86090.33333333333\n",
      "Weather : 52279.892857142855\n",
      "Utilities : 18684.456790123455\n",
      "Food & Drink : 33333.92307692308\n",
      "Business : 7491.117647058823\n",
      "Catalogs : 4004.0\n",
      "Sports : 23008.898550724636\n",
      "Health & Fitness : 23298.015384615384\n",
      "Games : 22788.6696905016\n",
      "Medical : 612.0\n",
      "Music : 57326.530303030304\n",
      "Reference : 74942.11111111111\n",
      "Finance : 31467.944444444445\n",
      "Social Networking : 71548.34905660378\n",
      "Entertainment : 14029.830708661417\n",
      "Photo & Video : 28441.54375\n",
      "Productivity : 21028.410714285714\n",
      "Education : 7003.983050847458\n",
      "News : 21248.023255813954\n",
      "Lifestyle : 16485.764705882353\n"
     ]
    }
   ],
   "source": [
    "ios_genre = freq(ios_free_apps,11)\n",
    "\n",
    "for genre in ios_genre:\n",
    "    total = 0\n",
    "    len_genre = 0\n",
    "    \n",
    "    for row in ios_free_apps:\n",
    "        genre_app = row[11]\n",
    "        \n",
    "        if genre_app in genre:\n",
    "            total += float(row[5])\n",
    "            len_genre += 1\n",
    "    \n",
    "    avg_rating = total/len_genre\n",
    "    print(genre, ':', avg_rating)\n",
    "    "
   ]
  },
  {
   "cell_type": "markdown",
   "metadata": {},
   "source": [
    "'Navigation', 'Social Networking', 'Reference', 'Music', and 'Weather' apps have the higest average number of user reviews."
   ]
  },
  {
   "cell_type": "code",
   "execution_count": 109,
   "metadata": {
    "collapsed": false
   },
   "outputs": [
    {
     "name": "stdout",
     "output_type": "stream",
     "text": [
      "1,000,000+ :  15.726534296028879\n",
      "100,000+ :  11.552346570397113\n",
      "10,000,000+ :  10.548285198555957\n",
      "10,000+ :  10.198555956678701\n",
      "1,000+ :  8.393501805054152\n",
      "100+ :  6.915613718411552\n",
      "5,000,000+ :  6.825361010830325\n",
      "500,000+ :  5.561823104693141\n",
      "50,000+ :  4.7721119133574\n",
      "5,000+ :  4.512635379061372\n",
      "10+ :  3.5424187725631766\n",
      "500+ :  3.2490974729241873\n",
      "50,000,000+ :  2.3014440433213\n",
      "100,000,000+ :  2.1322202166064983\n",
      "50+ :  1.917870036101083\n",
      "5+ :  0.78971119133574\n",
      "1+ :  0.5076714801444043\n",
      "500,000,000+ :  0.2707581227436823\n",
      "1,000,000,000+ :  0.22563176895306858\n",
      "0+ :  0.04512635379061372\n",
      "0 :  0.01128158844765343\n"
     ]
    }
   ],
   "source": [
    "display(android_free_apps,5)"
   ]
  },
  {
   "cell_type": "markdown",
   "metadata": {},
   "source": [
    "Most apps have large number of intallations."
   ]
  },
  {
   "cell_type": "code",
   "execution_count": 120,
   "metadata": {
    "collapsed": false
   },
   "outputs": [
    {
     "name": "stdout",
     "output_type": "stream",
     "text": [
      "HOUSE_AND_HOME : 1331540.5616438356\n",
      "WEATHER : 5074486.197183099\n",
      "BEAUTY : 513151.88679245283\n",
      "BOOKS_AND_REFERENCE : 8767811.894736841\n",
      "COMICS : 817657.2727272727\n",
      "DATING : 854028.8303030303\n",
      "LIFESTYLE : 1437816.2687861272\n",
      "LIBRARIES_AND_DEMO : 638503.734939759\n",
      "SOCIAL : 23253652.127118643\n",
      "HEALTH_AND_FITNESS : 4188821.9853479853\n",
      "ART_AND_DESIGN : 1986335.0877192982\n",
      "PARENTING : 542603.6206896552\n",
      "FAMILY : 3695641.8198090694\n",
      "PERSONALIZATION : 5201482.6122448975\n",
      "MEDICAL : 120550.61980830671\n",
      "FINANCE : 1387692.475609756\n",
      "AUTO_AND_VEHICLES : 647317.8170731707\n",
      "EDUCATION : 1833495.145631068\n",
      "SPORTS : 3638640.1428571427\n",
      "COMMUNICATION : 38456119.167247385\n",
      "TRAVEL_AND_LOCAL : 13984077.710144928\n",
      "MAPS_AND_NAVIGATION : 4056941.7741935486\n",
      "PRODUCTIVITY : 16787331.344927534\n",
      "BUSINESS : 1712290.1474201474\n",
      "FOOD_AND_DRINK : 1924897.7363636363\n",
      "NEWS_AND_MAGAZINES : 9549178.467741935\n",
      "SHOPPING : 7036877.311557789\n",
      "GAME : 15588015.603248259\n",
      "TOOLS : 10801391.298666667\n",
      "PHOTOGRAPHY : 17840110.40229885\n",
      "VIDEO_PLAYERS : 24727872.452830188\n",
      "EVENTS : 253542.22222222222\n",
      "ENTERTAINMENT : 11640705.88235294\n"
     ]
    }
   ],
   "source": [
    "category_freq = freq(android_free_apps,1)\n",
    "category_table=[]\n",
    "for category in category_freq:\n",
    "    total = 0\n",
    "    len = 0\n",
    "    for row in android_free_apps:\n",
    "        category_app = row[1]\n",
    "        if category_app in category:\n",
    "            install = row[5]\n",
    "            install = install.replace('+','')\n",
    "            install = install.replace(',','')\n",
    "            total += float(install)\n",
    "            len += 1\n",
    "    avg_install = total/len\n",
    "    print(category,':',avg_install)\n",
    "    category_table.append((avg_install,category))\n",
    "            "
   ]
  },
  {
   "cell_type": "markdown",
   "metadata": {},
   "source": [
    "Sort the category table according to the number of installations."
   ]
  },
  {
   "cell_type": "code",
   "execution_count": 127,
   "metadata": {
    "collapsed": false
   },
   "outputs": [
    {
     "name": "stdout",
     "output_type": "stream",
     "text": [
      "COMMUNICATION : 38456119.167247385\n",
      "VIDEO_PLAYERS : 24727872.452830188\n",
      "SOCIAL : 23253652.127118643\n",
      "PHOTOGRAPHY : 17840110.40229885\n",
      "PRODUCTIVITY : 16787331.344927534\n",
      "GAME : 15588015.603248259\n",
      "TRAVEL_AND_LOCAL : 13984077.710144928\n",
      "ENTERTAINMENT : 11640705.88235294\n",
      "TOOLS : 10801391.298666667\n",
      "NEWS_AND_MAGAZINES : 9549178.467741935\n",
      "BOOKS_AND_REFERENCE : 8767811.894736841\n",
      "SHOPPING : 7036877.311557789\n",
      "PERSONALIZATION : 5201482.6122448975\n",
      "WEATHER : 5074486.197183099\n",
      "HEALTH_AND_FITNESS : 4188821.9853479853\n",
      "MAPS_AND_NAVIGATION : 4056941.7741935486\n",
      "FAMILY : 3695641.8198090694\n",
      "SPORTS : 3638640.1428571427\n",
      "ART_AND_DESIGN : 1986335.0877192982\n",
      "FOOD_AND_DRINK : 1924897.7363636363\n",
      "EDUCATION : 1833495.145631068\n",
      "BUSINESS : 1712290.1474201474\n",
      "LIFESTYLE : 1437816.2687861272\n",
      "FINANCE : 1387692.475609756\n",
      "HOUSE_AND_HOME : 1331540.5616438356\n",
      "DATING : 854028.8303030303\n",
      "COMICS : 817657.2727272727\n",
      "AUTO_AND_VEHICLES : 647317.8170731707\n",
      "LIBRARIES_AND_DEMO : 638503.734939759\n",
      "PARENTING : 542603.6206896552\n",
      "BEAUTY : 513151.88679245283\n",
      "EVENTS : 253542.22222222222\n",
      "MEDICAL : 120550.61980830671\n"
     ]
    }
   ],
   "source": [
    "category_table_sorted = sorted(category_table,reverse=True)\n",
    "for row in category_table_sorted:\n",
    "    print(row[1],':',row[0])\n",
    "                               "
   ]
  },
  {
   "cell_type": "markdown",
   "metadata": {},
   "source": [
    "On average, communication apps have the most installs: 38,456,119. However, communication apps are mostly dominated by few large companies. The top categories are mostly saturated with apps developed by large companies. There is however, a category that is still on the top list on both IOS and Android and does not seem to have fierce competion, which is Books and References. I would explore more on this genre."
   ]
  },
  {
   "cell_type": "code",
   "execution_count": 136,
   "metadata": {
    "collapsed": false,
    "scrolled": false
   },
   "outputs": [
    {
     "name": "stdout",
     "output_type": "stream",
     "text": [
      "Wikipedia : 10,000,000+\n",
      "Cool Reader : 10,000,000+\n",
      "Book store : 1,000,000+\n",
      "FBReader: Favorite Book Reader : 10,000,000+\n",
      "Free Books - Spirit Fanfiction and Stories : 1,000,000+\n",
      "Google Play Books : 1,000,000,000+\n",
      "AlReader -any text book reader : 5,000,000+\n",
      "FamilySearch Tree : 1,000,000+\n",
      "Cloud of Books : 1,000,000+\n",
      "ReadEra – free ebook reader : 1,000,000+\n",
      "Ebook Reader : 5,000,000+\n",
      "Read books online : 5,000,000+\n",
      "eBoox: book reader fb2 epub zip : 1,000,000+\n",
      "All Maths Formulas : 1,000,000+\n",
      "Ancestry : 5,000,000+\n",
      "HTC Help : 10,000,000+\n",
      "Moon+ Reader : 10,000,000+\n",
      "English-Myanmar Dictionary : 1,000,000+\n",
      "Golden Dictionary (EN-AR) : 1,000,000+\n",
      "All Language Translator Free : 1,000,000+\n",
      "Bible : 100,000,000+\n",
      "Amazon Kindle : 100,000,000+\n",
      "Aldiko Book Reader : 10,000,000+\n",
      "Wattpad 📖 Free Books : 100,000,000+\n",
      "Dictionary - WordWeb : 5,000,000+\n",
      "50000 Free eBooks & Free AudioBooks : 5,000,000+\n",
      "Al-Quran (Free) : 10,000,000+\n",
      "Al Quran Indonesia : 10,000,000+\n",
      "Al'Quran Bahasa Indonesia : 10,000,000+\n",
      "Al Quran Al karim : 1,000,000+\n",
      "Al Quran : EAlim - Translations & MP3 Offline : 5,000,000+\n",
      "Koran Read &MP3 30 Juz Offline : 1,000,000+\n",
      "Hafizi Quran 15 lines per page : 1,000,000+\n",
      "Quran for Android : 10,000,000+\n",
      "Satellite AR : 1,000,000+\n",
      "Audiobooks from Audible : 100,000,000+\n",
      "Oxford A-Z of English Usage : 1,000,000+\n",
      "Dictionary.com: Find Definitions for English Words : 10,000,000+\n",
      "English Dictionary - Offline : 10,000,000+\n",
      "Bible KJV : 5,000,000+\n",
      "NOOK: Read eBooks & Magazines : 10,000,000+\n",
      "Brilliant Quotes: Life, Love, Family & Motivation : 1,000,000+\n",
      "Stats Royale for Clash Royale : 1,000,000+\n",
      "Dictionary : 10,000,000+\n",
      "wikiHow: how to do anything : 1,000,000+\n",
      "EGW Writings : 1,000,000+\n",
      "My Little Pony AR Guide : 1,000,000+\n",
      "Spanish English Translator : 10,000,000+\n",
      "Dictionary - Merriam-Webster : 10,000,000+\n",
      "JW Library : 10,000,000+\n",
      "Oxford Dictionary of English : Free : 10,000,000+\n",
      "English Hindi Dictionary : 10,000,000+\n",
      "English to Hindi Dictionary : 5,000,000+\n"
     ]
    }
   ],
   "source": [
    "for row in android_free_apps:\n",
    "    if (row[1] == 'BOOKS_AND_REFERENCE') and (row[5] == '1,000,000+'\n",
    "                                           or row[5] == '5,000,000+'\n",
    "                                           or row[5] == '10,000,000+'\n",
    "                                           or row[5] == '50,000,000+'\n",
    "                                           or row[5] == '100,000,000+'\n",
    "                                           or row[5] == '500,000,000+'\n",
    "                                           or row[5] == '1,000,000,000+'):\n",
    "        print(row[0],':',row[5])"
   ]
  },
  {
   "cell_type": "markdown",
   "metadata": {},
   "source": [
    "There seems to be various of apps and does not have a lot of apps with hundred of millions of installations. The market shows potential, but we need to create an app with some unique features or distinction as an app with normal reading features could be dominated by Google Play Books or Amaazon Kindle."
   ]
  },
  {
   "cell_type": "markdown",
   "metadata": {
    "collapsed": true
   },
   "source": [
    "## Conclusion\n",
    "In this project, I analyzed data about the App Store and Google Play mobile apps with the goal of recommending an app profile that can be profitable for both markets (Google Play Store and Apple Store).\n",
    "\n",
    "It is concluded that creating a book or reference app could be profitable for both the Google Play and the App Store markets. The markets are already full of book reading apps, so special features besides the general reading feature must be included. Some possible examples are an app for communities for discussion of popular books and daily popular lines from a famous book."
   ]
  },
  {
   "cell_type": "code",
   "execution_count": null,
   "metadata": {
    "collapsed": true
   },
   "outputs": [],
   "source": []
  }
 ],
 "metadata": {
  "kernelspec": {
   "display_name": "Python 3",
   "language": "python",
   "name": "python3"
  },
  "language_info": {
   "codemirror_mode": {
    "name": "ipython",
    "version": 3
   },
   "file_extension": ".py",
   "mimetype": "text/x-python",
   "name": "python",
   "nbconvert_exporter": "python",
   "pygments_lexer": "ipython3",
   "version": "3.4.3"
  }
 },
 "nbformat": 4,
 "nbformat_minor": 2
}
